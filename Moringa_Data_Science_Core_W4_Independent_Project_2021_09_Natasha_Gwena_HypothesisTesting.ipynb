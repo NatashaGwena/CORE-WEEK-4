{
  "nbformat": 4,
  "nbformat_minor": 0,
  "metadata": {
    "colab": {
      "name": "Moringa_Data_Science_Core_W4_Independent_Project_2021_09_Natasha_Gwena_HypothesisTesting",
      "provenance": [],
      "toc_visible": true,
      "authorship_tag": "ABX9TyMksGT5M0XjSOXKyZuYxazs",
      "include_colab_link": true
    },
    "kernelspec": {
      "name": "python3",
      "display_name": "Python 3"
    },
    "language_info": {
      "name": "python"
    }
  },
  "cells": [
    {
      "cell_type": "markdown",
      "metadata": {
        "id": "view-in-github",
        "colab_type": "text"
      },
      "source": [
        "<a href=\"https://colab.research.google.com/github/NatashaGwena/CORE-WEEK-4/blob/main/Moringa_Data_Science_Core_W4_Independent_Project_2021_09_Natasha_Gwena_HypothesisTesting.ipynb\" target=\"_parent\"><img src=\"https://colab.research.google.com/assets/colab-badge.svg\" alt=\"Open In Colab\"/></a>"
      ]
    },
    {
      "cell_type": "markdown",
      "metadata": {
        "id": "qjppx9GbCodJ"
      },
      "source": [
        "# **Hypothesis Testing on Bluecar-usage on different types of Days**"
      ]
    },
    {
      "cell_type": "markdown",
      "metadata": {
        "id": "EawkeAozS332"
      },
      "source": [
        "## **Overview**\n",
        "Just like before, we have been tasked to understand electric car usage by solving for another research question. We will work as a Data Scientist for the Autolib electric car-sharing service company to investigate a claim about the blue cars from the provided Autolib dataset.\n",
        "\n",
        "In an effort to do this, we need to identify some areas and periods of interest via sampling stating the reason to the choice of method, then perform hypothesis testing with regards to the claim that we will have made. An example of claim to test would be \"Is the number of Bluecars taken in area X different than in area Y? Is it greater in area X than in area Z? Etc”. The selected periods of interest be either weekdays or weekends but not a mix of both. You can also consider postal codes 75015 vs 75017 to some of the areas of interest. \n",
        "\n",
        "To work on this project, we will perform the following analysis with Python; \n",
        " \n",
        "\n",
        "*   Find and deal with outliers, anomalies, and missing data within the dataset.\n",
        "*   Plot appropriate univariate and bivariate summaries recording our observations.\n",
        "*  Implement the solution by performing hypothesis testing.\n",
        "*  This will need to be documented when writing the report. \n",
        "\n",
        "Below are the guidelines for creating your report:\n",
        "\n",
        "\n",
        "\n",
        "**1.   Problem Statement**\n",
        "\n",
        "Introduce the data you will be describing and the random variable that you are investigating. \n",
        "State very precisely the null and alternate hypothesis that you will be testing. \n",
        "Provide some explanation for why this hypothesis is important and/or interesting.\n",
        "\n",
        "**2.   Data Description**\n",
        "\n",
        "Provide information about the data necessary to understand the rest of the report including a precise statement of the random variable.\n",
        "Provide a description of the source of your data and the data collection procedures, the descriptive statistics, and some assertions about the model that is consistent with the data. \n",
        "\n",
        "**3. Hypothesis Testing Procedure**\n",
        "\n",
        "Present the details concerning how you will test your hypothesis. \n",
        "Describe the logic behind your null and alternate hypotheses -- where did they come from, why are they interesting. \n",
        "Describe the test statistic will you use (i.e., z, t, f) and why?  For example, if you are testing a hypothesis about a mean, you have what appears to be normal data, and you have a small n, then you would use a T-test.  When explaining your choice of the test statistic, you need to discuss whether you have satisfied the assumptions necessary for using the specific statistic (e.g., does the statistic require your population to be normal and is it?). \n",
        "Determine the alpha level you will use (i.e., 0.01, 0.05).\n",
        "\n",
        "**4. Hypothesis Testing Results**\n",
        "\n",
        "Start with the results of your test. \n",
        "State the value of the test statistics and the result of the accept/reject decision. \n",
        "Identify the p-value of the test.\n",
        "State what the point estimate is for the parameter\n",
        "Construct a confidence interval around the parameter.\n",
        "\n",
        "**5. Discussion of Test Sensitivity**\n",
        "\n",
        "If you conducted a test on a parameter (e.g., m, p, s), then you might comment on the following:  the practical significance of the finding in the event that your null hypothesis is rejected and the power of the test (1-ß) for the given alpha level and sample size, and the effect of changing the sample size.\n",
        "If you conducted the goodness of fit test, comment on the effect of different bin sizes, different numbers of bins, and different estimates of the parameters of the hypothesized model.\n",
        "\n",
        "**6. Summary and Conclusions**\n",
        "\n",
        "Summarize the process of the project\n",
        "Provide the concluding statement concerning the hypothesis, the results, and the sensitivity of the testing.\n",
        "\n",
        "\n",
        "\n",
        "\n",
        "**Dataset**\n",
        "\n",
        "The dataset and glossary to use for this project can be found here [http://bit.ly/DSCoreAutolibDataset] and here [Link] respectively.\n",
        "\n",
        "The provided dataset is a daily aggregation, by date and postal code, of the number of events on the Autolib network (car-sharing and recharging)."
      ]
    },
    {
      "cell_type": "markdown",
      "metadata": {
        "id": "V5GdCN3iWYSl"
      },
      "source": [
        "## **1. Problem Statement**\n",
        "\n",
        "To investigate whether there is a viable difference between Bluecar usage on different day types, for example, weekdays or weekends"
      ]
    },
    {
      "cell_type": "markdown",
      "metadata": {
        "id": "bR3Ua43QEDJ_"
      },
      "source": [
        "## Hypothesis\n",
        "\n",
        "mu₁: mean of bluecars taken during normal weekdays\n",
        "\n",
        "mu₂: mean of bluecars taken during the weekends\n",
        "\n",
        "Null and Alternative hypothesis\n",
        "\n",
        "Ho: mu₁ = mu₂\n",
        "\n",
        "H1: mu₁ != mu₂"
      ]
    },
    {
      "cell_type": "markdown",
      "metadata": {
        "id": "ZwwW0os_ErNo"
      },
      "source": [
        "## **2. Read the Data**"
      ]
    },
    {
      "cell_type": "code",
      "metadata": {
        "id": "_T4Eg4PUUGHc"
      },
      "source": [
        "#import the necessary libraries\n",
        "import warnings\n",
        "warnings.filterwarnings('ignore')\n",
        "\n",
        "import numpy as np\n",
        "import pandas as pd\n",
        "import matplotlib.pyplot as plt\n",
        "import seaborn as sns\n",
        "import scipy.stats as stats\n",
        "import random  \n",
        "from random import sample"
      ],
      "execution_count": 22,
      "outputs": []
    },
    {
      "cell_type": "code",
      "metadata": {
        "colab": {
          "base_uri": "https://localhost:8080/",
          "height": 238
        },
        "id": "XWGvqp3uUfyW",
        "outputId": "49c8afba-04b6-4704-d969-c3e259d8ffeb"
      },
      "source": [
        "# Load the Data from the source\n",
        "data = pd.read_csv('/content/autolib_daily_events_postal_code.csv')\n",
        "#Previewing the upper part of the data\n",
        "data.head()"
      ],
      "execution_count": 3,
      "outputs": [
        {
          "output_type": "execute_result",
          "data": {
            "text/html": [
              "<div>\n",
              "<style scoped>\n",
              "    .dataframe tbody tr th:only-of-type {\n",
              "        vertical-align: middle;\n",
              "    }\n",
              "\n",
              "    .dataframe tbody tr th {\n",
              "        vertical-align: top;\n",
              "    }\n",
              "\n",
              "    .dataframe thead th {\n",
              "        text-align: right;\n",
              "    }\n",
              "</style>\n",
              "<table border=\"1\" class=\"dataframe\">\n",
              "  <thead>\n",
              "    <tr style=\"text-align: right;\">\n",
              "      <th></th>\n",
              "      <th>Postal code</th>\n",
              "      <th>date</th>\n",
              "      <th>n_daily_data_points</th>\n",
              "      <th>dayOfWeek</th>\n",
              "      <th>day_type</th>\n",
              "      <th>BlueCars_taken_sum</th>\n",
              "      <th>BlueCars_returned_sum</th>\n",
              "      <th>Utilib_taken_sum</th>\n",
              "      <th>Utilib_returned_sum</th>\n",
              "      <th>Utilib_14_taken_sum</th>\n",
              "      <th>Utilib_14_returned_sum</th>\n",
              "      <th>Slots_freed_sum</th>\n",
              "      <th>Slots_taken_sum</th>\n",
              "    </tr>\n",
              "  </thead>\n",
              "  <tbody>\n",
              "    <tr>\n",
              "      <th>0</th>\n",
              "      <td>75001</td>\n",
              "      <td>1/1/2018</td>\n",
              "      <td>1440</td>\n",
              "      <td>0</td>\n",
              "      <td>weekday</td>\n",
              "      <td>110</td>\n",
              "      <td>103</td>\n",
              "      <td>3</td>\n",
              "      <td>2</td>\n",
              "      <td>10</td>\n",
              "      <td>9</td>\n",
              "      <td>22</td>\n",
              "      <td>20</td>\n",
              "    </tr>\n",
              "    <tr>\n",
              "      <th>1</th>\n",
              "      <td>75001</td>\n",
              "      <td>1/2/2018</td>\n",
              "      <td>1438</td>\n",
              "      <td>1</td>\n",
              "      <td>weekday</td>\n",
              "      <td>98</td>\n",
              "      <td>94</td>\n",
              "      <td>1</td>\n",
              "      <td>1</td>\n",
              "      <td>8</td>\n",
              "      <td>8</td>\n",
              "      <td>23</td>\n",
              "      <td>22</td>\n",
              "    </tr>\n",
              "    <tr>\n",
              "      <th>2</th>\n",
              "      <td>75001</td>\n",
              "      <td>1/3/2018</td>\n",
              "      <td>1439</td>\n",
              "      <td>2</td>\n",
              "      <td>weekday</td>\n",
              "      <td>138</td>\n",
              "      <td>139</td>\n",
              "      <td>0</td>\n",
              "      <td>0</td>\n",
              "      <td>2</td>\n",
              "      <td>2</td>\n",
              "      <td>27</td>\n",
              "      <td>27</td>\n",
              "    </tr>\n",
              "    <tr>\n",
              "      <th>3</th>\n",
              "      <td>75001</td>\n",
              "      <td>1/4/2018</td>\n",
              "      <td>1320</td>\n",
              "      <td>3</td>\n",
              "      <td>weekday</td>\n",
              "      <td>104</td>\n",
              "      <td>104</td>\n",
              "      <td>2</td>\n",
              "      <td>2</td>\n",
              "      <td>9</td>\n",
              "      <td>8</td>\n",
              "      <td>25</td>\n",
              "      <td>21</td>\n",
              "    </tr>\n",
              "    <tr>\n",
              "      <th>4</th>\n",
              "      <td>75001</td>\n",
              "      <td>1/5/2018</td>\n",
              "      <td>1440</td>\n",
              "      <td>4</td>\n",
              "      <td>weekday</td>\n",
              "      <td>114</td>\n",
              "      <td>117</td>\n",
              "      <td>3</td>\n",
              "      <td>3</td>\n",
              "      <td>6</td>\n",
              "      <td>6</td>\n",
              "      <td>18</td>\n",
              "      <td>20</td>\n",
              "    </tr>\n",
              "  </tbody>\n",
              "</table>\n",
              "</div>"
            ],
            "text/plain": [
              "   Postal code      date  ...  Slots_freed_sum  Slots_taken_sum\n",
              "0        75001  1/1/2018  ...               22               20\n",
              "1        75001  1/2/2018  ...               23               22\n",
              "2        75001  1/3/2018  ...               27               27\n",
              "3        75001  1/4/2018  ...               25               21\n",
              "4        75001  1/5/2018  ...               18               20\n",
              "\n",
              "[5 rows x 13 columns]"
            ]
          },
          "metadata": {},
          "execution_count": 3
        }
      ]
    },
    {
      "cell_type": "code",
      "metadata": {
        "colab": {
          "base_uri": "https://localhost:8080/",
          "height": 447
        },
        "id": "cP44xYkPXQUe",
        "outputId": "6b8ca699-f7e4-4692-e44f-94c850ef6dcf"
      },
      "source": [
        "data_description = pd.read_excel('/content/columns_explanation.xlsx')\n",
        "data_description"
      ],
      "execution_count": 4,
      "outputs": [
        {
          "output_type": "execute_result",
          "data": {
            "text/html": [
              "<div>\n",
              "<style scoped>\n",
              "    .dataframe tbody tr th:only-of-type {\n",
              "        vertical-align: middle;\n",
              "    }\n",
              "\n",
              "    .dataframe tbody tr th {\n",
              "        vertical-align: top;\n",
              "    }\n",
              "\n",
              "    .dataframe thead th {\n",
              "        text-align: right;\n",
              "    }\n",
              "</style>\n",
              "<table border=\"1\" class=\"dataframe\">\n",
              "  <thead>\n",
              "    <tr style=\"text-align: right;\">\n",
              "      <th></th>\n",
              "      <th>Column name</th>\n",
              "      <th>explanation</th>\n",
              "    </tr>\n",
              "  </thead>\n",
              "  <tbody>\n",
              "    <tr>\n",
              "      <th>0</th>\n",
              "      <td>Postal code</td>\n",
              "      <td>postal code of the area (in Paris)</td>\n",
              "    </tr>\n",
              "    <tr>\n",
              "      <th>1</th>\n",
              "      <td>date</td>\n",
              "      <td>date of the row aggregation</td>\n",
              "    </tr>\n",
              "    <tr>\n",
              "      <th>2</th>\n",
              "      <td>n_daily_data_points</td>\n",
              "      <td>number of daily data poinst that were availabl...</td>\n",
              "    </tr>\n",
              "    <tr>\n",
              "      <th>3</th>\n",
              "      <td>dayOfWeek</td>\n",
              "      <td>identifier of weekday (0: Monday -&gt; 6: Sunday)</td>\n",
              "    </tr>\n",
              "    <tr>\n",
              "      <th>4</th>\n",
              "      <td>day_type</td>\n",
              "      <td>weekday or weekend</td>\n",
              "    </tr>\n",
              "    <tr>\n",
              "      <th>5</th>\n",
              "      <td>BlueCars_taken_sum</td>\n",
              "      <td>Number of bluecars taken that date in that area</td>\n",
              "    </tr>\n",
              "    <tr>\n",
              "      <th>6</th>\n",
              "      <td>BlueCars_returned_sum</td>\n",
              "      <td>Number of bluecars returned that date in that ...</td>\n",
              "    </tr>\n",
              "    <tr>\n",
              "      <th>7</th>\n",
              "      <td>Utilib_taken_sum</td>\n",
              "      <td>Number of Utilib taken that date in that area</td>\n",
              "    </tr>\n",
              "    <tr>\n",
              "      <th>8</th>\n",
              "      <td>Utilib_returned_sum</td>\n",
              "      <td>Number of Utilib returned that date in that area</td>\n",
              "    </tr>\n",
              "    <tr>\n",
              "      <th>9</th>\n",
              "      <td>Utilib_14_taken_sum</td>\n",
              "      <td>Number of Utilib 1.4 taken that date in that area</td>\n",
              "    </tr>\n",
              "    <tr>\n",
              "      <th>10</th>\n",
              "      <td>Utilib_14_returned_sum</td>\n",
              "      <td>Number of Utilib 1.4 returned that date in tha...</td>\n",
              "    </tr>\n",
              "    <tr>\n",
              "      <th>11</th>\n",
              "      <td>Slots_freed_sum</td>\n",
              "      <td>Number of recharging slots released that date ...</td>\n",
              "    </tr>\n",
              "    <tr>\n",
              "      <th>12</th>\n",
              "      <td>Slots_taken_sum</td>\n",
              "      <td>Number of rechargign slots taken that date in ...</td>\n",
              "    </tr>\n",
              "  </tbody>\n",
              "</table>\n",
              "</div>"
            ],
            "text/plain": [
              "               Column name                                        explanation\n",
              "0              Postal code                 postal code of the area (in Paris)\n",
              "1                     date                        date of the row aggregation\n",
              "2      n_daily_data_points  number of daily data poinst that were availabl...\n",
              "3                dayOfWeek     identifier of weekday (0: Monday -> 6: Sunday)\n",
              "4                 day_type                                 weekday or weekend\n",
              "5       BlueCars_taken_sum    Number of bluecars taken that date in that area\n",
              "6    BlueCars_returned_sum  Number of bluecars returned that date in that ...\n",
              "7         Utilib_taken_sum      Number of Utilib taken that date in that area\n",
              "8      Utilib_returned_sum   Number of Utilib returned that date in that area\n",
              "9      Utilib_14_taken_sum  Number of Utilib 1.4 taken that date in that area\n",
              "10  Utilib_14_returned_sum  Number of Utilib 1.4 returned that date in tha...\n",
              "11         Slots_freed_sum  Number of recharging slots released that date ...\n",
              "12         Slots_taken_sum  Number of rechargign slots taken that date in ..."
            ]
          },
          "metadata": {},
          "execution_count": 4
        }
      ]
    },
    {
      "cell_type": "markdown",
      "metadata": {
        "id": "hzH7XYu3Fapm"
      },
      "source": [
        "## **3. Check the Data**"
      ]
    },
    {
      "cell_type": "code",
      "metadata": {
        "colab": {
          "base_uri": "https://localhost:8080/"
        },
        "id": "KevIvfruX1m0",
        "outputId": "eb95a836-3086-4a30-e169-3ae8aa36d5ff"
      },
      "source": [
        "# Determining the no. of records in our dataset\n",
        "\n",
        "print('Shape of dataset:')\n",
        "print(data.shape)\n",
        "#Get column names\n",
        "print('Column names of dataset:')\n",
        "print(data.columns)\n",
        "print(data.info)"
      ],
      "execution_count": 5,
      "outputs": [
        {
          "output_type": "stream",
          "name": "stdout",
          "text": [
            "Shape of dataset:\n",
            "(16085, 13)\n",
            "Column names of dataset:\n",
            "Index(['Postal code', 'date', 'n_daily_data_points', 'dayOfWeek', 'day_type',\n",
            "       'BlueCars_taken_sum', 'BlueCars_returned_sum', 'Utilib_taken_sum',\n",
            "       'Utilib_returned_sum', 'Utilib_14_taken_sum', 'Utilib_14_returned_sum',\n",
            "       'Slots_freed_sum', 'Slots_taken_sum'],\n",
            "      dtype='object')\n",
            "<bound method DataFrame.info of        Postal code       date  ...  Slots_freed_sum  Slots_taken_sum\n",
            "0            75001   1/1/2018  ...               22               20\n",
            "1            75001   1/2/2018  ...               23               22\n",
            "2            75001   1/3/2018  ...               27               27\n",
            "3            75001   1/4/2018  ...               25               21\n",
            "4            75001   1/5/2018  ...               18               20\n",
            "...            ...        ...  ...              ...              ...\n",
            "16080        95880  6/15/2018  ...                0                0\n",
            "16081        95880  6/16/2018  ...                0                0\n",
            "16082        95880  6/17/2018  ...                0                0\n",
            "16083        95880  6/18/2018  ...                0                0\n",
            "16084        95880  6/19/2018  ...                0                0\n",
            "\n",
            "[16085 rows x 13 columns]>\n"
          ]
        }
      ]
    },
    {
      "cell_type": "code",
      "metadata": {
        "colab": {
          "base_uri": "https://localhost:8080/"
        },
        "id": "0aS0CYICaBHi",
        "outputId": "10d30d08-1e42-492c-b9bd-33dbe3f33519"
      },
      "source": [
        "#Check for data types \n",
        "data.dtypes"
      ],
      "execution_count": 6,
      "outputs": [
        {
          "output_type": "execute_result",
          "data": {
            "text/plain": [
              "Postal code                int64\n",
              "date                      object\n",
              "n_daily_data_points        int64\n",
              "dayOfWeek                  int64\n",
              "day_type                  object\n",
              "BlueCars_taken_sum         int64\n",
              "BlueCars_returned_sum      int64\n",
              "Utilib_taken_sum           int64\n",
              "Utilib_returned_sum        int64\n",
              "Utilib_14_taken_sum        int64\n",
              "Utilib_14_returned_sum     int64\n",
              "Slots_freed_sum            int64\n",
              "Slots_taken_sum            int64\n",
              "dtype: object"
            ]
          },
          "metadata": {},
          "execution_count": 6
        }
      ]
    },
    {
      "cell_type": "code",
      "metadata": {
        "colab": {
          "base_uri": "https://localhost:8080/"
        },
        "id": "xwCZ82Lk5xYy",
        "outputId": "31c5e2f8-c62e-4529-e51b-afa2f4d1b75a"
      },
      "source": [
        "#Check for unique attributes from data\n",
        "data.nunique()"
      ],
      "execution_count": 7,
      "outputs": [
        {
          "output_type": "execute_result",
          "data": {
            "text/plain": [
              "Postal code               104\n",
              "date                      156\n",
              "n_daily_data_points        23\n",
              "dayOfWeek                   7\n",
              "day_type                    2\n",
              "BlueCars_taken_sum        932\n",
              "BlueCars_returned_sum     929\n",
              "Utilib_taken_sum           48\n",
              "Utilib_returned_sum        49\n",
              "Utilib_14_taken_sum        92\n",
              "Utilib_14_returned_sum     94\n",
              "Slots_freed_sum           297\n",
              "Slots_taken_sum           301\n",
              "dtype: int64"
            ]
          },
          "metadata": {},
          "execution_count": 7
        }
      ]
    },
    {
      "cell_type": "code",
      "metadata": {
        "colab": {
          "base_uri": "https://localhost:8080/"
        },
        "id": "eXHskFYT5-z3",
        "outputId": "d038f1e7-a120-409c-dc83-435c6e42efc5"
      },
      "source": [
        "#Basic descriptive statistics for the numeric columns\n",
        "print('Basic Statistics for Blue Cars Returned:')\n",
        "print(data['BlueCars_returned_sum'].describe())\n",
        "\n",
        "print('Basic Statistics for Blue Cars Taken:')\n",
        "data['BlueCars_taken_sum'].describe()"
      ],
      "execution_count": 8,
      "outputs": [
        {
          "output_type": "stream",
          "name": "stdout",
          "text": [
            "Basic Statistics for Blue Cars Returned:\n",
            "count    16085.000000\n",
            "mean       125.912714\n",
            "std        185.501535\n",
            "min          0.000000\n",
            "25%         20.000000\n",
            "50%         46.000000\n",
            "75%        135.000000\n",
            "max       1332.000000\n",
            "Name: BlueCars_returned_sum, dtype: float64\n",
            "Basic Statistics for Blue Cars Taken:\n"
          ]
        },
        {
          "output_type": "execute_result",
          "data": {
            "text/plain": [
              "count    16085.000000\n",
              "mean       125.926951\n",
              "std        185.426579\n",
              "min          0.000000\n",
              "25%         20.000000\n",
              "50%         46.000000\n",
              "75%        135.000000\n",
              "max       1352.000000\n",
              "Name: BlueCars_taken_sum, dtype: float64"
            ]
          },
          "metadata": {},
          "execution_count": 8
        }
      ]
    },
    {
      "cell_type": "markdown",
      "metadata": {
        "id": "wfBREtuWS2Ow"
      },
      "source": [
        "## **4. Tidy the Dataset**"
      ]
    },
    {
      "cell_type": "code",
      "metadata": {
        "colab": {
          "base_uri": "https://localhost:8080/"
        },
        "id": "He7GgIPqGFgQ",
        "outputId": "098a5cd9-0006-4c88-d64d-058f569e33e8"
      },
      "source": [
        "#Drop columns\n",
        "data1 = data.drop(columns=['n_daily_data_points', 'Utilib_taken_sum',\n",
        "       'Utilib_returned_sum', 'Utilib_14_taken_sum', 'Utilib_14_returned_sum',\n",
        "       'Slots_freed_sum', 'Slots_taken_sum'])\n",
        "data1.shape"
      ],
      "execution_count": 9,
      "outputs": [
        {
          "output_type": "execute_result",
          "data": {
            "text/plain": [
              "(16085, 6)"
            ]
          },
          "metadata": {},
          "execution_count": 9
        }
      ]
    },
    {
      "cell_type": "code",
      "metadata": {
        "colab": {
          "base_uri": "https://localhost:8080/",
          "height": 202
        },
        "id": "_nK1CPtwGRKy",
        "outputId": "a570572f-1952-43a3-8021-7ad819ae8ccb"
      },
      "source": [
        "#Changing column names\n",
        "data1.rename(columns={'BlueCars_taken_sum':'Bluecars_taken',\n",
        "                          'BlueCars_returned_sum': 'Bluecars_returned'\n",
        "                          }, \n",
        "                 inplace=True)\n",
        "data1.head()"
      ],
      "execution_count": 10,
      "outputs": [
        {
          "output_type": "execute_result",
          "data": {
            "text/html": [
              "<div>\n",
              "<style scoped>\n",
              "    .dataframe tbody tr th:only-of-type {\n",
              "        vertical-align: middle;\n",
              "    }\n",
              "\n",
              "    .dataframe tbody tr th {\n",
              "        vertical-align: top;\n",
              "    }\n",
              "\n",
              "    .dataframe thead th {\n",
              "        text-align: right;\n",
              "    }\n",
              "</style>\n",
              "<table border=\"1\" class=\"dataframe\">\n",
              "  <thead>\n",
              "    <tr style=\"text-align: right;\">\n",
              "      <th></th>\n",
              "      <th>Postal code</th>\n",
              "      <th>date</th>\n",
              "      <th>dayOfWeek</th>\n",
              "      <th>day_type</th>\n",
              "      <th>Bluecars_taken</th>\n",
              "      <th>Bluecars_returned</th>\n",
              "    </tr>\n",
              "  </thead>\n",
              "  <tbody>\n",
              "    <tr>\n",
              "      <th>0</th>\n",
              "      <td>75001</td>\n",
              "      <td>1/1/2018</td>\n",
              "      <td>0</td>\n",
              "      <td>weekday</td>\n",
              "      <td>110</td>\n",
              "      <td>103</td>\n",
              "    </tr>\n",
              "    <tr>\n",
              "      <th>1</th>\n",
              "      <td>75001</td>\n",
              "      <td>1/2/2018</td>\n",
              "      <td>1</td>\n",
              "      <td>weekday</td>\n",
              "      <td>98</td>\n",
              "      <td>94</td>\n",
              "    </tr>\n",
              "    <tr>\n",
              "      <th>2</th>\n",
              "      <td>75001</td>\n",
              "      <td>1/3/2018</td>\n",
              "      <td>2</td>\n",
              "      <td>weekday</td>\n",
              "      <td>138</td>\n",
              "      <td>139</td>\n",
              "    </tr>\n",
              "    <tr>\n",
              "      <th>3</th>\n",
              "      <td>75001</td>\n",
              "      <td>1/4/2018</td>\n",
              "      <td>3</td>\n",
              "      <td>weekday</td>\n",
              "      <td>104</td>\n",
              "      <td>104</td>\n",
              "    </tr>\n",
              "    <tr>\n",
              "      <th>4</th>\n",
              "      <td>75001</td>\n",
              "      <td>1/5/2018</td>\n",
              "      <td>4</td>\n",
              "      <td>weekday</td>\n",
              "      <td>114</td>\n",
              "      <td>117</td>\n",
              "    </tr>\n",
              "  </tbody>\n",
              "</table>\n",
              "</div>"
            ],
            "text/plain": [
              "   Postal code      date  dayOfWeek day_type  Bluecars_taken  Bluecars_returned\n",
              "0        75001  1/1/2018          0  weekday             110                103\n",
              "1        75001  1/2/2018          1  weekday              98                 94\n",
              "2        75001  1/3/2018          2  weekday             138                139\n",
              "3        75001  1/4/2018          3  weekday             104                104\n",
              "4        75001  1/5/2018          4  weekday             114                117"
            ]
          },
          "metadata": {},
          "execution_count": 10
        }
      ]
    },
    {
      "cell_type": "code",
      "metadata": {
        "colab": {
          "base_uri": "https://localhost:8080/"
        },
        "id": "SV6Zkd2YGTQE",
        "outputId": "cc28927f-b1f9-4026-d0eb-fc59ae0a122d"
      },
      "source": [
        "#Checking for duplicates and dropping them\n",
        "data1 = data1.drop_duplicates()\n",
        "data1.shape"
      ],
      "execution_count": 11,
      "outputs": [
        {
          "output_type": "execute_result",
          "data": {
            "text/plain": [
              "(16085, 6)"
            ]
          },
          "metadata": {},
          "execution_count": 11
        }
      ]
    },
    {
      "cell_type": "code",
      "metadata": {
        "colab": {
          "base_uri": "https://localhost:8080/",
          "height": 266
        },
        "id": "xJCouKr9Gb2k",
        "outputId": "006ed051-5f76-4485-f1fb-40a85f268db3"
      },
      "source": [
        "# Checking for Outliers\n",
        "#Let's start with the Bluecars_taken \n",
        "boxplot = data1.boxplot(column=['Bluecars_returned', 'Bluecars_taken'])"
      ],
      "execution_count": 13,
      "outputs": [
        {
          "output_type": "display_data",
          "data": {
            "image/png": "[encoded data removed]",
            "text/plain": [
              "<Figure size 432x288 with 1 Axes>"
            ]
          },
          "metadata": {
            "needs_background": "light"
          }
        }
      ]
    },
    {
      "cell_type": "code",
      "metadata": {
        "colab": {
          "base_uri": "https://localhost:8080/"
        },
        "id": "BhwSebw0HApQ",
        "outputId": "c1f989e6-4fb9-4e0b-cead-81d2911f5d32"
      },
      "source": [
        "#Removing the outliers/anomalies using percentile\n",
        "#Starting with the Bluecars taken Column\n",
        "max_threshold = data1['Bluecars_taken'].quantile(0.85)\n",
        "print(max_threshold)\n",
        "min_threshold = data1['Bluecars_taken'].quantile(0.15)\n",
        "print(min_threshold)\n",
        "data2 = data1[data1['Bluecars_taken']<= max_threshold]\n",
        "data2 = data1[data1['Bluecars_taken']> min_threshold]\n",
        "print(data2.shape)"
      ],
      "execution_count": 16,
      "outputs": [
        {
          "output_type": "stream",
          "name": "stdout",
          "text": [
            "284.0\n",
            "12.0\n",
            "(13621, 6)\n"
          ]
        }
      ]
    },
    {
      "cell_type": "code",
      "metadata": {
        "colab": {
          "base_uri": "https://localhost:8080/"
        },
        "id": "LNvCJ-mjGpwn",
        "outputId": "0d11c675-c966-4ca6-aac4-27425b453f5f"
      },
      "source": [
        "#Removing the outliers/anomalies in the Bluecars returned Column\n",
        "max_threshold1 = data2['Bluecars_returned'].quantile(0.85)\n",
        "print(max_threshold)\n",
        "min_threshold = data2['Bluecars_taken'].quantile(0.15)\n",
        "print(min_threshold)\n",
        "data3 = data2[data2['Bluecars_returned']<= max_threshold1]\n",
        "data3 = data2[data2['Bluecars_taken']> min_threshold]\n",
        "print(data3.shape)"
      ],
      "execution_count": 17,
      "outputs": [
        {
          "output_type": "stream",
          "name": "stdout",
          "text": [
            "284.0\n",
            "22.0\n",
            "(11569, 6)\n"
          ]
        }
      ]
    },
    {
      "cell_type": "code",
      "metadata": {
        "colab": {
          "base_uri": "https://localhost:8080/"
        },
        "id": "UYkjI2r4HHjv",
        "outputId": "23662a51-3c7d-45f0-c871-74256fc9d885"
      },
      "source": [
        "#Converting datatypes\n",
        "data3['date']= pd.to_datetime(data3['date']) \n",
        "data3.info()"
      ],
      "execution_count": 18,
      "outputs": [
        {
          "output_type": "stream",
          "name": "stdout",
          "text": [
            "<class 'pandas.core.frame.DataFrame'>\n",
            "Int64Index: 11569 entries, 0 to 16082\n",
            "Data columns (total 6 columns):\n",
            " #   Column             Non-Null Count  Dtype         \n",
            "---  ------             --------------  -----         \n",
            " 0   Postal code        11569 non-null  int64         \n",
            " 1   date               11569 non-null  datetime64[ns]\n",
            " 2   dayOfWeek          11569 non-null  int64         \n",
            " 3   day_type           11569 non-null  object        \n",
            " 4   Bluecars_taken     11569 non-null  int64         \n",
            " 5   Bluecars_returned  11569 non-null  int64         \n",
            "dtypes: datetime64[ns](1), int64(4), object(1)\n",
            "memory usage: 632.7+ KB\n"
          ]
        }
      ]
    },
    {
      "cell_type": "markdown",
      "metadata": {
        "id": "Fn2EG9QoHMHI"
      },
      "source": [
        "## **5. Data Sampling**\n",
        "\n",
        "Stratified sampling is to create two datasets, one for weekends and another for weekdays. After that, simple random sampling is applied with a sample size of 350 and 371 for weekends dataset and weekdays dataset respectively.\n"
      ]
    },
    {
      "cell_type": "code",
      "metadata": {
        "colab": {
          "base_uri": "https://localhost:8080/",
          "height": 202
        },
        "id": "xICna_DuHLiw",
        "outputId": "db6b39a6-ff9b-4cde-a126-0b867cd7e016"
      },
      "source": [
        "#Take two samples one from weekdays and another from weekends\n",
        "weekdays_df = data3[data3['day_type'] == 'weekday']\n",
        "weekdays_df.reset_index(drop=True, inplace=True)\n",
        "weekdays_df.tail()"
      ],
      "execution_count": 19,
      "outputs": [
        {
          "output_type": "execute_result",
          "data": {
            "text/html": [
              "<div>\n",
              "<style scoped>\n",
              "    .dataframe tbody tr th:only-of-type {\n",
              "        vertical-align: middle;\n",
              "    }\n",
              "\n",
              "    .dataframe tbody tr th {\n",
              "        vertical-align: top;\n",
              "    }\n",
              "\n",
              "    .dataframe thead th {\n",
              "        text-align: right;\n",
              "    }\n",
              "</style>\n",
              "<table border=\"1\" class=\"dataframe\">\n",
              "  <thead>\n",
              "    <tr style=\"text-align: right;\">\n",
              "      <th></th>\n",
              "      <th>Postal code</th>\n",
              "      <th>date</th>\n",
              "      <th>dayOfWeek</th>\n",
              "      <th>day_type</th>\n",
              "      <th>Bluecars_taken</th>\n",
              "      <th>Bluecars_returned</th>\n",
              "    </tr>\n",
              "  </thead>\n",
              "  <tbody>\n",
              "    <tr>\n",
              "      <th>8031</th>\n",
              "      <td>95880</td>\n",
              "      <td>2018-04-02</td>\n",
              "      <td>0</td>\n",
              "      <td>weekday</td>\n",
              "      <td>36</td>\n",
              "      <td>31</td>\n",
              "    </tr>\n",
              "    <tr>\n",
              "      <th>8032</th>\n",
              "      <td>95880</td>\n",
              "      <td>2018-05-01</td>\n",
              "      <td>1</td>\n",
              "      <td>weekday</td>\n",
              "      <td>24</td>\n",
              "      <td>25</td>\n",
              "    </tr>\n",
              "    <tr>\n",
              "      <th>8033</th>\n",
              "      <td>95880</td>\n",
              "      <td>2018-05-08</td>\n",
              "      <td>1</td>\n",
              "      <td>weekday</td>\n",
              "      <td>31</td>\n",
              "      <td>32</td>\n",
              "    </tr>\n",
              "    <tr>\n",
              "      <th>8034</th>\n",
              "      <td>95880</td>\n",
              "      <td>2018-05-21</td>\n",
              "      <td>0</td>\n",
              "      <td>weekday</td>\n",
              "      <td>26</td>\n",
              "      <td>27</td>\n",
              "    </tr>\n",
              "    <tr>\n",
              "      <th>8035</th>\n",
              "      <td>95880</td>\n",
              "      <td>2018-06-12</td>\n",
              "      <td>1</td>\n",
              "      <td>weekday</td>\n",
              "      <td>25</td>\n",
              "      <td>25</td>\n",
              "    </tr>\n",
              "  </tbody>\n",
              "</table>\n",
              "</div>"
            ],
            "text/plain": [
              "      Postal code       date  ...  Bluecars_taken Bluecars_returned\n",
              "8031        95880 2018-04-02  ...              36                31\n",
              "8032        95880 2018-05-01  ...              24                25\n",
              "8033        95880 2018-05-08  ...              31                32\n",
              "8034        95880 2018-05-21  ...              26                27\n",
              "8035        95880 2018-06-12  ...              25                25\n",
              "\n",
              "[5 rows x 6 columns]"
            ]
          },
          "metadata": {},
          "execution_count": 19
        }
      ]
    },
    {
      "cell_type": "code",
      "metadata": {
        "colab": {
          "base_uri": "https://localhost:8080/",
          "height": 202
        },
        "id": "G6kKkQVdHg5X",
        "outputId": "d981d3cc-9ae7-440f-b03f-af2cd19419ee"
      },
      "source": [
        "weekends_df = data3[data3['day_type'] == 'weekend']\n",
        "weekends_df.reset_index(drop=True, inplace= True)\n",
        "weekends_df.tail()"
      ],
      "execution_count": 21,
      "outputs": [
        {
          "output_type": "execute_result",
          "data": {
            "text/html": [
              "<div>\n",
              "<style scoped>\n",
              "    .dataframe tbody tr th:only-of-type {\n",
              "        vertical-align: middle;\n",
              "    }\n",
              "\n",
              "    .dataframe tbody tr th {\n",
              "        vertical-align: top;\n",
              "    }\n",
              "\n",
              "    .dataframe thead th {\n",
              "        text-align: right;\n",
              "    }\n",
              "</style>\n",
              "<table border=\"1\" class=\"dataframe\">\n",
              "  <thead>\n",
              "    <tr style=\"text-align: right;\">\n",
              "      <th></th>\n",
              "      <th>Postal code</th>\n",
              "      <th>date</th>\n",
              "      <th>dayOfWeek</th>\n",
              "      <th>day_type</th>\n",
              "      <th>Bluecars_taken</th>\n",
              "      <th>Bluecars_returned</th>\n",
              "    </tr>\n",
              "  </thead>\n",
              "  <tbody>\n",
              "    <tr>\n",
              "      <th>3528</th>\n",
              "      <td>95880</td>\n",
              "      <td>2018-05-27</td>\n",
              "      <td>6</td>\n",
              "      <td>weekend</td>\n",
              "      <td>37</td>\n",
              "      <td>29</td>\n",
              "    </tr>\n",
              "    <tr>\n",
              "      <th>3529</th>\n",
              "      <td>95880</td>\n",
              "      <td>2018-06-02</td>\n",
              "      <td>5</td>\n",
              "      <td>weekend</td>\n",
              "      <td>29</td>\n",
              "      <td>25</td>\n",
              "    </tr>\n",
              "    <tr>\n",
              "      <th>3530</th>\n",
              "      <td>95880</td>\n",
              "      <td>2018-06-03</td>\n",
              "      <td>6</td>\n",
              "      <td>weekend</td>\n",
              "      <td>36</td>\n",
              "      <td>33</td>\n",
              "    </tr>\n",
              "    <tr>\n",
              "      <th>3531</th>\n",
              "      <td>95880</td>\n",
              "      <td>2018-06-10</td>\n",
              "      <td>6</td>\n",
              "      <td>weekend</td>\n",
              "      <td>34</td>\n",
              "      <td>32</td>\n",
              "    </tr>\n",
              "    <tr>\n",
              "      <th>3532</th>\n",
              "      <td>95880</td>\n",
              "      <td>2018-06-17</td>\n",
              "      <td>6</td>\n",
              "      <td>weekend</td>\n",
              "      <td>33</td>\n",
              "      <td>35</td>\n",
              "    </tr>\n",
              "  </tbody>\n",
              "</table>\n",
              "</div>"
            ],
            "text/plain": [
              "      Postal code       date  ...  Bluecars_taken Bluecars_returned\n",
              "3528        95880 2018-05-27  ...              37                29\n",
              "3529        95880 2018-06-02  ...              29                25\n",
              "3530        95880 2018-06-03  ...              36                33\n",
              "3531        95880 2018-06-10  ...              34                32\n",
              "3532        95880 2018-06-17  ...              33                35\n",
              "\n",
              "[5 rows x 6 columns]"
            ]
          },
          "metadata": {},
          "execution_count": 21
        }
      ]
    },
    {
      "cell_type": "code",
      "metadata": {
        "colab": {
          "base_uri": "https://localhost:8080/"
        },
        "id": "dhUhNoxTHreb",
        "outputId": "8b6582a0-4a4d-479d-c829-4aff0e1881c7"
      },
      "source": [
        "#Random sampling for weekdays_df\n",
        "sample_weekday_df =weekdays_df.sample(n=371,replace=\"False\")\n",
        "sample_weekday_df.shape"
      ],
      "execution_count": 23,
      "outputs": [
        {
          "output_type": "execute_result",
          "data": {
            "text/plain": [
              "(371, 6)"
            ]
          },
          "metadata": {},
          "execution_count": 23
        }
      ]
    },
    {
      "cell_type": "code",
      "metadata": {
        "colab": {
          "base_uri": "https://localhost:8080/"
        },
        "id": "mi-J2CWqHwxQ",
        "outputId": "3bffda07-c3f5-4b55-c3b1-316a4ba89f9f"
      },
      "source": [
        "#Random sampling for weekends_df\n",
        "sample_weekend_df =weekends_df.sample(n=350,replace=\"False\")\n",
        "sample_weekend_df.info()"
      ],
      "execution_count": 24,
      "outputs": [
        {
          "output_type": "stream",
          "name": "stdout",
          "text": [
            "<class 'pandas.core.frame.DataFrame'>\n",
            "Int64Index: 350 entries, 3251 to 1257\n",
            "Data columns (total 6 columns):\n",
            " #   Column             Non-Null Count  Dtype         \n",
            "---  ------             --------------  -----         \n",
            " 0   Postal code        350 non-null    int64         \n",
            " 1   date               350 non-null    datetime64[ns]\n",
            " 2   dayOfWeek          350 non-null    int64         \n",
            " 3   day_type           350 non-null    object        \n",
            " 4   Bluecars_taken     350 non-null    int64         \n",
            " 5   Bluecars_returned  350 non-null    int64         \n",
            "dtypes: datetime64[ns](1), int64(4), object(1)\n",
            "memory usage: 19.1+ KB\n"
          ]
        }
      ]
    },
    {
      "cell_type": "markdown",
      "metadata": {
        "id": "DBX-nErYH0qz"
      },
      "source": [
        "## **6. Exploratory Analysis**\n",
        "\n",
        "Univariate Analysis: We will be dealing with numerical variables and we will be checking the following properties:\n",
        "\n",
        "Mean Median Standard Deviation Kurtosis/skewness distribution/range We will also plot to visualize our data each at a time"
      ]
    },
    {
      "cell_type": "code",
      "metadata": {
        "colab": {
          "base_uri": "https://localhost:8080/"
        },
        "id": "Uk3pt3ilH39r",
        "outputId": "c71b9c94-2068-4c16-fe40-45d0eafc5b60"
      },
      "source": [
        "#Calculate measures of central tendency for weekday sample dataset\n",
        "print('Measures of central tendency for sample weekday dataset: ')\n",
        "df= sample_weekday_df[['Bluecars_returned', 'Bluecars_taken']]\n",
        "print('Mean is: ')\n",
        "print(df.mean())\n",
        "print('Mode is: ')\n",
        "print(df.mode())\n",
        "print('Median is: ')\n",
        "print(df.median())"
      ],
      "execution_count": 25,
      "outputs": [
        {
          "output_type": "stream",
          "name": "stdout",
          "text": [
            "Measures of central tendency for sample weekday dataset: \n",
            "Mean is: \n",
            "Bluecars_returned    149.261456\n",
            "Bluecars_taken       149.552561\n",
            "dtype: float64\n",
            "Mode is: \n",
            "   Bluecars_returned  Bluecars_taken\n",
            "0                 29              23\n",
            "Median is: \n",
            "Bluecars_returned    73.0\n",
            "Bluecars_taken       71.0\n",
            "dtype: float64\n"
          ]
        }
      ]
    },
    {
      "cell_type": "code",
      "metadata": {
        "colab": {
          "base_uri": "https://localhost:8080/"
        },
        "id": "L19HBuXtOfoE",
        "outputId": "d77ae6d1-cdc5-4fc9-ce99-1e91f3726491"
      },
      "source": [
        "#Get min, max and range\n",
        "print('Minimum usage is: ')\n",
        "print(df.min())\n",
        "print('Maximum usage was is: ')\n",
        "print(df.max())"
      ],
      "execution_count": 26,
      "outputs": [
        {
          "output_type": "stream",
          "name": "stdout",
          "text": [
            "Minimum usage is: \n",
            "Bluecars_returned    18\n",
            "Bluecars_taken       23\n",
            "dtype: int64\n",
            "Maximum usage was is: \n",
            "Bluecars_returned    919\n",
            "Bluecars_taken       942\n",
            "dtype: int64\n"
          ]
        }
      ]
    },
    {
      "cell_type": "code",
      "metadata": {
        "colab": {
          "base_uri": "https://localhost:8080/"
        },
        "id": "ER_GZ_92Offa",
        "outputId": "8526405b-1cb7-4a72-e95b-b8f40ebd6f97"
      },
      "source": [
        "#Calculate quantiles\n",
        "quantiles = df.quantile([0.25,0.5,0.75])\n",
        "print(quantiles)"
      ],
      "execution_count": 27,
      "outputs": [
        {
          "output_type": "stream",
          "name": "stdout",
          "text": [
            "      Bluecars_returned  Bluecars_taken\n",
            "0.25               40.0            40.0\n",
            "0.50               73.0            71.0\n",
            "0.75              177.0           180.0\n"
          ]
        }
      ]
    },
    {
      "cell_type": "code",
      "metadata": {
        "colab": {
          "base_uri": "https://localhost:8080/"
        },
        "id": "o3UnEfZkOfWL",
        "outputId": "b3ac1b29-cc5a-48d4-d375-297d7a02343d"
      },
      "source": [
        "#Calculating measures of dispersion\n",
        "print('Skew is: ')\n",
        "print(df.skew())\n",
        "print('Kurtosis is: ')\n",
        "print(df.kurtosis())"
      ],
      "execution_count": 28,
      "outputs": [
        {
          "output_type": "stream",
          "name": "stdout",
          "text": [
            "Skew is: \n",
            "Bluecars_returned    1.928707\n",
            "Bluecars_taken       1.957608\n",
            "dtype: float64\n",
            "Kurtosis is: \n",
            "Bluecars_returned    3.427172\n",
            "Bluecars_taken       3.613608\n",
            "dtype: float64\n"
          ]
        }
      ]
    },
    {
      "cell_type": "code",
      "metadata": {
        "colab": {
          "base_uri": "https://localhost:8080/",
          "height": 312
        },
        "id": "wPf8kw_cPHTp",
        "outputId": "7bfccec0-d7c1-42ca-f7f1-d9b23cc2f441"
      },
      "source": [
        "#Calculate measures of central tendency for weekend sample dataset\n",
        "print('Measures of central tendency for sample weekend dataset: ')\n",
        "\n",
        "df= sample_weekend_df[['Bluecars_returned', 'Bluecars_taken']]\n",
        "df.describe()"
      ],
      "execution_count": 29,
      "outputs": [
        {
          "output_type": "stream",
          "name": "stdout",
          "text": [
            "Measures of central tendency for sample weekend dataset: \n"
          ]
        },
        {
          "output_type": "execute_result",
          "data": {
            "text/html": [
              "<div>\n",
              "<style scoped>\n",
              "    .dataframe tbody tr th:only-of-type {\n",
              "        vertical-align: middle;\n",
              "    }\n",
              "\n",
              "    .dataframe tbody tr th {\n",
              "        vertical-align: top;\n",
              "    }\n",
              "\n",
              "    .dataframe thead th {\n",
              "        text-align: right;\n",
              "    }\n",
              "</style>\n",
              "<table border=\"1\" class=\"dataframe\">\n",
              "  <thead>\n",
              "    <tr style=\"text-align: right;\">\n",
              "      <th></th>\n",
              "      <th>Bluecars_returned</th>\n",
              "      <th>Bluecars_taken</th>\n",
              "    </tr>\n",
              "  </thead>\n",
              "  <tbody>\n",
              "    <tr>\n",
              "      <th>count</th>\n",
              "      <td>350.000000</td>\n",
              "      <td>350.000000</td>\n",
              "    </tr>\n",
              "    <tr>\n",
              "      <th>mean</th>\n",
              "      <td>198.777143</td>\n",
              "      <td>197.365714</td>\n",
              "    </tr>\n",
              "    <tr>\n",
              "      <th>std</th>\n",
              "      <td>242.435332</td>\n",
              "      <td>239.092022</td>\n",
              "    </tr>\n",
              "    <tr>\n",
              "      <th>min</th>\n",
              "      <td>14.000000</td>\n",
              "      <td>23.000000</td>\n",
              "    </tr>\n",
              "    <tr>\n",
              "      <th>25%</th>\n",
              "      <td>46.250000</td>\n",
              "      <td>49.000000</td>\n",
              "    </tr>\n",
              "    <tr>\n",
              "      <th>50%</th>\n",
              "      <td>90.000000</td>\n",
              "      <td>88.000000</td>\n",
              "    </tr>\n",
              "    <tr>\n",
              "      <th>75%</th>\n",
              "      <td>255.750000</td>\n",
              "      <td>256.500000</td>\n",
              "    </tr>\n",
              "    <tr>\n",
              "      <th>max</th>\n",
              "      <td>1230.000000</td>\n",
              "      <td>1248.000000</td>\n",
              "    </tr>\n",
              "  </tbody>\n",
              "</table>\n",
              "</div>"
            ],
            "text/plain": [
              "       Bluecars_returned  Bluecars_taken\n",
              "count         350.000000      350.000000\n",
              "mean          198.777143      197.365714\n",
              "std           242.435332      239.092022\n",
              "min            14.000000       23.000000\n",
              "25%            46.250000       49.000000\n",
              "50%            90.000000       88.000000\n",
              "75%           255.750000      256.500000\n",
              "max          1230.000000     1248.000000"
            ]
          },
          "metadata": {},
          "execution_count": 29
        }
      ]
    },
    {
      "cell_type": "code",
      "metadata": {
        "colab": {
          "base_uri": "https://localhost:8080/"
        },
        "id": "T1x2QWMPPKhJ",
        "outputId": "219c163e-196b-46d0-b6d6-89776fe4c818"
      },
      "source": [
        "#Calculating measures of dispersion\n",
        "print('Skew is: ')\n",
        "print(df.skew())\n",
        "print('Kurtosis is: ')\n",
        "print(df.kurtosis())"
      ],
      "execution_count": 30,
      "outputs": [
        {
          "output_type": "stream",
          "name": "stdout",
          "text": [
            "Skew is: \n",
            "Bluecars_returned    1.986220\n",
            "Bluecars_taken       2.005539\n",
            "dtype: float64\n",
            "Kurtosis is: \n",
            "Bluecars_returned    3.713555\n",
            "Bluecars_taken       3.861857\n",
            "dtype: float64\n"
          ]
        }
      ]
    },
    {
      "cell_type": "markdown",
      "metadata": {
        "id": "7Zp2U1KNPQnL"
      },
      "source": [
        "**Sample weekday observation:**\n",
        "\n",
        "* The number of Bluecars taken and that returned seems to have a relationship. The mean, mode and Median numbers of cars taken and those returned is practically the same.\n",
        "\n",
        "* Both distributions (Bluecars taken and Bluecars returned) are highly skewed to the right.\n",
        "\n",
        "**Sample weekend observation:**\n",
        "\n",
        "* The number of Bluecars taken and that returned seems to have a relationship. The mean, mode and Median numbers of cars taken and those returned is practically the same.\n",
        "\n",
        "* Both distributions (Bluecars taken and Bluecars returned) are highly skewed to the right.\n",
        "\n",
        "* A similar observation can be noted for observations taken during the normal weekdays.\n",
        "\n",
        "* The mean of Blue car usage is relatively higher during the weekend compared to the weekdays"
      ]
    },
    {
      "cell_type": "markdown",
      "metadata": {
        "id": "ZzNIry7FQilS"
      },
      "source": [
        "### **Univariate Analysis**"
      ]
    },
    {
      "cell_type": "code",
      "metadata": {
        "colab": {
          "base_uri": "https://localhost:8080/"
        },
        "id": "oSSZqY6qPygL",
        "outputId": "4aaa82e3-f20a-4812-d9d3-b5e19a11554b"
      },
      "source": [
        "#Frequency tables\n",
        "df_swd= sample_weekday_df[['date', 'dayOfWeek','Bluecars_returned', 'Bluecars_taken']]\n",
        "days = df_swd.groupby('dayOfWeek')\n",
        "days.Bluecars_taken.value_counts()"
      ],
      "execution_count": 31,
      "outputs": [
        {
          "output_type": "execute_result",
          "data": {
            "text/plain": [
              "dayOfWeek  Bluecars_taken\n",
              "0          24                4\n",
              "           23                3\n",
              "           29                3\n",
              "           40                3\n",
              "           38                2\n",
              "                            ..\n",
              "4          593               1\n",
              "           705               1\n",
              "           746               1\n",
              "           754               1\n",
              "           942               1\n",
              "Name: Bluecars_taken, Length: 299, dtype: int64"
            ]
          },
          "metadata": {},
          "execution_count": 31
        }
      ]
    },
    {
      "cell_type": "code",
      "metadata": {
        "colab": {
          "base_uri": "https://localhost:8080/",
          "height": 294
        },
        "id": "A5Lx5IslP3BF",
        "outputId": "7b64ce41-3868-4dbb-f391-d69f9af1f104"
      },
      "source": [
        "#Plotting a Bluecars taken histogram for weekdays dataset\n",
        "Bluecars_taken = df_swd['Bluecars_taken']\n",
        "\n",
        "plt.hist(Bluecars_taken, bins=10, histtype='bar', rwidth=0.9)\n",
        "plt.xlabel('Bluecars Taken')\n",
        "plt.ylabel('Frequency')\n",
        "plt.title('Histogram of Bluecars taken vs frequency')\n",
        "plt.show()\n",
        "#From the histogram we can see that our data is not normally distributed\n",
        "#And that most observations are between 0 and 50"
      ],
      "execution_count": 32,
      "outputs": [
        {
          "output_type": "display_data",
          "data": {
            "image/png": "[encoded data removed]",
            "text/plain": [
              "<Figure size 432x288 with 1 Axes>"
            ]
          },
          "metadata": {
            "needs_background": "light"
          }
        }
      ]
    },
    {
      "cell_type": "code",
      "metadata": {
        "colab": {
          "base_uri": "https://localhost:8080/",
          "height": 294
        },
        "id": "tniaWUsTP6xS",
        "outputId": "b3074e80-b866-4761-dd43-3f6959033cb3"
      },
      "source": [
        "#Plotting a Bluecars taken histogram for weekends dataset\n",
        "df_sample_weekend= sample_weekend_df[['date', 'dayOfWeek','Bluecars_returned', 'Bluecars_taken']]\n",
        "Bluecars_taken = df_sample_weekend['Bluecars_taken']\n",
        "\n",
        "plt.hist(Bluecars_taken, bins=10, histtype='bar', rwidth=0.9)\n",
        "plt.xlabel('Bluecars Taken')\n",
        "plt.ylabel('Frequency')\n",
        "plt.title('Histogram of Bluecars taken vs frequency')\n",
        "plt.show()\n",
        "#From the histogram we can see that data from the weekends is not normally distributed\n",
        "#And that most observations of bluecars taken are between 0 and 50"
      ],
      "execution_count": 33,
      "outputs": [
        {
          "output_type": "display_data",
          "data": {
            "image/png": "[encoded data removed]",
            "text/plain": [
              "<Figure size 432x288 with 1 Axes>"
            ]
          },
          "metadata": {
            "needs_background": "light"
          }
        }
      ]
    },
    {
      "cell_type": "markdown",
      "metadata": {
        "id": "4ZRnjL_PQb0E"
      },
      "source": [
        "### **Summary**\n",
        "\n",
        "Observations from both weekdays and weekends are not normally distributed\n",
        "Most stations rent out cars between 0 and 100 in both occasions"
      ]
    },
    {
      "cell_type": "markdown",
      "metadata": {
        "id": "sH3W0P1eQu4d"
      },
      "source": [
        "### **Bivariate Analysis**"
      ]
    },
    {
      "cell_type": "code",
      "metadata": {
        "colab": {
          "base_uri": "https://localhost:8080/",
          "height": 202
        },
        "id": "wOAZwqadQ2UL",
        "outputId": "bda9989d-b54c-4310-94a7-9b5a291399e7"
      },
      "source": [
        "#Numeric-Numeric Variables\n",
        "#We will be checking the relationship between bluecars returned and bluecars\n",
        "# taken for weekends\n",
        "df= sample_weekend_df[['Bluecars_returned', 'Bluecars_taken']]\n",
        "df.reset_index(drop=True, inplace= True)\n",
        "df.head()"
      ],
      "execution_count": 34,
      "outputs": [
        {
          "output_type": "execute_result",
          "data": {
            "text/html": [
              "<div>\n",
              "<style scoped>\n",
              "    .dataframe tbody tr th:only-of-type {\n",
              "        vertical-align: middle;\n",
              "    }\n",
              "\n",
              "    .dataframe tbody tr th {\n",
              "        vertical-align: top;\n",
              "    }\n",
              "\n",
              "    .dataframe thead th {\n",
              "        text-align: right;\n",
              "    }\n",
              "</style>\n",
              "<table border=\"1\" class=\"dataframe\">\n",
              "  <thead>\n",
              "    <tr style=\"text-align: right;\">\n",
              "      <th></th>\n",
              "      <th>Bluecars_returned</th>\n",
              "      <th>Bluecars_taken</th>\n",
              "    </tr>\n",
              "  </thead>\n",
              "  <tbody>\n",
              "    <tr>\n",
              "      <th>0</th>\n",
              "      <td>44</td>\n",
              "      <td>47</td>\n",
              "    </tr>\n",
              "    <tr>\n",
              "      <th>1</th>\n",
              "      <td>975</td>\n",
              "      <td>936</td>\n",
              "    </tr>\n",
              "    <tr>\n",
              "      <th>2</th>\n",
              "      <td>596</td>\n",
              "      <td>604</td>\n",
              "    </tr>\n",
              "    <tr>\n",
              "      <th>3</th>\n",
              "      <td>53</td>\n",
              "      <td>64</td>\n",
              "    </tr>\n",
              "    <tr>\n",
              "      <th>4</th>\n",
              "      <td>128</td>\n",
              "      <td>136</td>\n",
              "    </tr>\n",
              "  </tbody>\n",
              "</table>\n",
              "</div>"
            ],
            "text/plain": [
              "   Bluecars_returned  Bluecars_taken\n",
              "0                 44              47\n",
              "1                975             936\n",
              "2                596             604\n",
              "3                 53              64\n",
              "4                128             136"
            ]
          },
          "metadata": {},
          "execution_count": 34
        }
      ]
    },
    {
      "cell_type": "code",
      "metadata": {
        "colab": {
          "base_uri": "https://localhost:8080/",
          "height": 110
        },
        "id": "5fbKRPwhRQEy",
        "outputId": "6ad90d6d-0eee-4f4c-8806-30795c1f5442"
      },
      "source": [
        "#Calculating correlation\n",
        "correlation = df.dropna().corr()\n",
        "correlation"
      ],
      "execution_count": 35,
      "outputs": [
        {
          "output_type": "execute_result",
          "data": {
            "text/html": [
              "<div>\n",
              "<style scoped>\n",
              "    .dataframe tbody tr th:only-of-type {\n",
              "        vertical-align: middle;\n",
              "    }\n",
              "\n",
              "    .dataframe tbody tr th {\n",
              "        vertical-align: top;\n",
              "    }\n",
              "\n",
              "    .dataframe thead th {\n",
              "        text-align: right;\n",
              "    }\n",
              "</style>\n",
              "<table border=\"1\" class=\"dataframe\">\n",
              "  <thead>\n",
              "    <tr style=\"text-align: right;\">\n",
              "      <th></th>\n",
              "      <th>Bluecars_returned</th>\n",
              "      <th>Bluecars_taken</th>\n",
              "    </tr>\n",
              "  </thead>\n",
              "  <tbody>\n",
              "    <tr>\n",
              "      <th>Bluecars_returned</th>\n",
              "      <td>1.000000</td>\n",
              "      <td>0.998563</td>\n",
              "    </tr>\n",
              "    <tr>\n",
              "      <th>Bluecars_taken</th>\n",
              "      <td>0.998563</td>\n",
              "      <td>1.000000</td>\n",
              "    </tr>\n",
              "  </tbody>\n",
              "</table>\n",
              "</div>"
            ],
            "text/plain": [
              "                   Bluecars_returned  Bluecars_taken\n",
              "Bluecars_returned           1.000000        0.998563\n",
              "Bluecars_taken              0.998563        1.000000"
            ]
          },
          "metadata": {},
          "execution_count": 35
        }
      ]
    },
    {
      "cell_type": "code",
      "metadata": {
        "colab": {
          "base_uri": "https://localhost:8080/",
          "height": 287
        },
        "id": "tqE9TyBKRUlk",
        "outputId": "475fd05b-ddcb-4419-c832-1d411e347a67"
      },
      "source": [
        "#plotting a correlation heatmap\n",
        "sns.heatmap(correlation, xticklabels=correlation.columns, yticklabels=correlation.columns, annot=True)\n",
        "#There is a perfect correlation between bluecars taken and bluecars returned"
      ],
      "execution_count": 36,
      "outputs": [
        {
          "output_type": "execute_result",
          "data": {
            "text/plain": [
              "<matplotlib.axes._subplots.AxesSubplot at 0x7fa012a682d0>"
            ]
          },
          "metadata": {},
          "execution_count": 36
        },
        {
          "output_type": "display_data",
          "data": {
            "image/png": "[encoded data removed]",
            "text/plain": [
              "<Figure size 432x288 with 2 Axes>"
            ]
          },
          "metadata": {
            "needs_background": "light"
          }
        }
      ]
    },
    {
      "cell_type": "code",
      "metadata": {
        "colab": {
          "base_uri": "https://localhost:8080/",
          "height": 294
        },
        "id": "1wJ5ZRcRRaMK",
        "outputId": "74a9cf33-8632-4ebe-f135-cf62f74995ed"
      },
      "source": [
        "#Plotting scatter plots\n",
        "plt.scatter(df[\"Bluecars_taken\"] , df[\"Bluecars_returned\"])\n",
        "\n",
        "# Giving our scatterplot a title\n",
        "plt.title('Bluecars taken vs Bluecars taken')\n",
        "\n",
        "# Labelling our x axis\n",
        "plt.xlabel('Bluecars taken')\n",
        "\n",
        "# Labelling our y axis\n",
        "plt.ylabel('Bluecars returned')\n",
        "\n",
        "# We then display our scatterplot as shown below\n",
        "plt.show()"
      ],
      "execution_count": 37,
      "outputs": [
        {
          "output_type": "display_data",
          "data": {
            "image/png": "[encoded data removed]",
            "text/plain": [
              "<Figure size 432x288 with 1 Axes>"
            ]
          },
          "metadata": {
            "needs_background": "light"
          }
        }
      ]
    },
    {
      "cell_type": "markdown",
      "metadata": {
        "id": "pH-gO0W6RgYy"
      },
      "source": [
        "###**Summary** \n",
        "\n",
        "There is a perfeect correlation between number of bluecars taken and number of bluecars returned during the week and on weekends"
      ]
    },
    {
      "cell_type": "markdown",
      "metadata": {
        "id": "6cvaiZBPR6Is"
      },
      "source": [
        "# **7. Hypothesis Testing**"
      ]
    },
    {
      "cell_type": "code",
      "metadata": {
        "colab": {
          "base_uri": "https://localhost:8080/"
        },
        "id": "rletkAVGR_B8",
        "outputId": "fd40cced-5039-4209-ff80-380bb906dbaa"
      },
      "source": [
        "#First lets create a new dataframe frame containing sample records of bluecars taken \n",
        "data_weekday = sample_weekday_df['Bluecars_taken']\n",
        "data_weekday.head()"
      ],
      "execution_count": 38,
      "outputs": [
        {
          "output_type": "execute_result",
          "data": {
            "text/plain": [
              "4879     37\n",
              "6444     41\n",
              "4547     45\n",
              "1212    581\n",
              "1549    421\n",
              "Name: Bluecars_taken, dtype: int64"
            ]
          },
          "metadata": {},
          "execution_count": 38
        }
      ]
    },
    {
      "cell_type": "code",
      "metadata": {
        "colab": {
          "base_uri": "https://localhost:8080/"
        },
        "id": "P_WGMbS3SD6M",
        "outputId": "f6142c4b-891d-47c5-ccb9-0a47e57896e8"
      },
      "source": [
        "#Normality test\n",
        "#We will use shapiro wilk test to test if numbers of Bluecars taken during the\n",
        "# week and on weekends are normally distributed\n",
        "from scipy.stats import shapiro\n",
        "stat, p = shapiro(data_weekday)\n",
        "print('Statistics=%.3f, p=%.3f' % (stat, p))\n",
        "# interpret\n",
        "alpha = 0.05\n",
        "if p > alpha:\n",
        "\tprint('Sample looks Gaussian')\n",
        "else:\n",
        "\tprint('Sample does not look Gaussian')"
      ],
      "execution_count": 39,
      "outputs": [
        {
          "output_type": "stream",
          "name": "stdout",
          "text": [
            "Statistics=0.718, p=0.000\n",
            "Sample does not look Gaussian\n"
          ]
        }
      ]
    },
    {
      "cell_type": "code",
      "metadata": {
        "colab": {
          "base_uri": "https://localhost:8080/"
        },
        "id": "mKIK58OBSiF3",
        "outputId": "e065ff49-5ecb-48a5-bb21-d6edda0e479d"
      },
      "source": [
        "#We then create a new dataframe frame containing sample records of bluecars taken \n",
        "#from sample_weekend_df\n",
        "data_weekend = sample_weekend_df['Bluecars_taken']\n",
        "data_weekend.head()"
      ],
      "execution_count": 40,
      "outputs": [
        {
          "output_type": "execute_result",
          "data": {
            "text/plain": [
              "3251     47\n",
              "727     936\n",
              "764     604\n",
              "1975     64\n",
              "1278    136\n",
              "Name: Bluecars_taken, dtype: int64"
            ]
          },
          "metadata": {},
          "execution_count": 40
        }
      ]
    },
    {
      "cell_type": "code",
      "metadata": {
        "colab": {
          "base_uri": "https://localhost:8080/"
        },
        "id": "4YoLIDueSlJE",
        "outputId": "454b4d8e-2aef-4f01-bc1d-71c3e1961874"
      },
      "source": [
        "#Test for normality for bluecars taken during the weekend\n",
        "from scipy.stats import shapiro\n",
        "stat, p = shapiro(data_weekend)\n",
        "print('Statistics=%.3f, p=%.3f' % (stat, p))\n",
        "# interpret\n",
        "alpha = 0.05\n",
        "if p > alpha:\n",
        "\tprint('Sample looks Gaussian')\n",
        "else:\n",
        "\tprint('Sample does not look Gaussian')"
      ],
      "execution_count": 41,
      "outputs": [
        {
          "output_type": "stream",
          "name": "stdout",
          "text": [
            "Statistics=0.716, p=0.000\n",
            "Sample does not look Gaussian\n"
          ]
        }
      ]
    },
    {
      "cell_type": "markdown",
      "metadata": {
        "id": "tVYeVE8kSx5K"
      },
      "source": [
        "Since both datasets do not follow a normal distribution, we reject the use of all parametric tests and consider using non parametric test.\n",
        "\n",
        "In this case Wilcoxon Signed-Rank Test is used for two paired samples since the samples are drawn from the same population.\n",
        "\n",
        "The hypothesis as defined earlier:\n",
        "\n",
        "**Null and Alternative hypothesis**\n",
        "\n",
        "Ho: mu₁ = mu₂\n",
        "\n",
        "H1: mu₁ != mu₂\n",
        "\n",
        "Define our alpha = 0.05\n",
        "\n",
        "**Asumptions**\n",
        "\n",
        "To use Wilcoxon Signed-Rank test both dataset x and y need to have the same length and their should be atleast 20 records"
      ]
    },
    {
      "cell_type": "code",
      "metadata": {
        "colab": {
          "base_uri": "https://localhost:8080/"
        },
        "id": "CWTgE6EJSxQv",
        "outputId": "ba51d390-6161-492c-c107-0182a224b8c5"
      },
      "source": [
        "#To satisfy the assumptions we will choose another random sample of 50 records from both our datasets\n",
        "df1 =data_weekday.sample(n=50,replace=\"False\")\n",
        "df1.shape"
      ],
      "execution_count": 42,
      "outputs": [
        {
          "output_type": "execute_result",
          "data": {
            "text/plain": [
              "(50,)"
            ]
          },
          "metadata": {},
          "execution_count": 42
        }
      ]
    },
    {
      "cell_type": "code",
      "metadata": {
        "colab": {
          "base_uri": "https://localhost:8080/"
        },
        "id": "tSxmed2kTinu",
        "outputId": "9e6dafbc-cd6a-459b-c2e7-9f7b6d89090e"
      },
      "source": [
        "df2 =data_weekend.sample(n=50,replace=\"False\")\n",
        "df2.shape"
      ],
      "execution_count": 43,
      "outputs": [
        {
          "output_type": "execute_result",
          "data": {
            "text/plain": [
              "(50,)"
            ]
          },
          "metadata": {},
          "execution_count": 43
        }
      ]
    },
    {
      "cell_type": "code",
      "metadata": {
        "colab": {
          "base_uri": "https://localhost:8080/"
        },
        "id": "q4MnI0ByUznc",
        "outputId": "5f0c8a98-0775-4197-cc11-a22ffae668b0"
      },
      "source": [
        "from scipy.stats import wilcoxon\n",
        "# compare samples\n",
        "stat, p = wilcoxon(df1, df2)\n",
        "print('Statistics=%.3f, p=%.3f' % (stat, p))\n",
        "# interpret\n",
        "alpha = 0.05\n",
        "if p > alpha:\n",
        "    print('Mean of bluecars taken during weekdays is similar to mean of bluecars taken during the weekend (fail to reject H0)')\n",
        "else:\n",
        "    print('Mean of bluecars taken during weekdays is different to mean of bluecars taken during the weekend (reject H0)')"
      ],
      "execution_count": 44,
      "outputs": [
        {
          "output_type": "stream",
          "name": "stdout",
          "text": [
            "Statistics=535.500, p=0.325\n",
            "Mean of bluecars taken during weekdays is similar to mean of bluecars taken during the weekend (fail to reject H0)\n"
          ]
        }
      ]
    },
    {
      "cell_type": "markdown",
      "metadata": {
        "id": "uxcuuFW8U_sl"
      },
      "source": [
        "**Interpretation of results**\n",
        "\n",
        "A Wilcoxon T test was used to analyze the number of blue cars taken during normal weekdays and on weekends to test if there is a significant difference between usage of bluecars on weekdays as compared to weekends. From our results, we can conclude that usage of blue cars is similar on weekends and weekdays. People don’t seem to rent out more bluecars on weekends as claimed by the management of Autolib Carsharing Company."
      ]
    },
    {
      "cell_type": "markdown",
      "metadata": {
        "id": "nMk-S5b7VFjs"
      },
      "source": [
        "### **8. Conclusion**"
      ]
    },
    {
      "cell_type": "markdown",
      "metadata": {
        "id": "0fxySbdCVIRY"
      },
      "source": [
        "The study shows no significant difference between the number of cars taken during weekdays and during weekends. Going forward, strategic decisions can be made, such as whether to increase the number of cars available on weekends or not from this findings."
      ]
    }
  ]
}